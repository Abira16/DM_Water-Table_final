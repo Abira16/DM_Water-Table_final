{
  "nbformat": 4,
  "nbformat_minor": 0,
  "metadata": {
    "colab": {
      "name": "Data Mining the Water Table_final.ipynb",
      "provenance": [],
      "collapsed_sections": []
    },
    "kernelspec": {
      "name": "python3",
      "display_name": "Python 3"
    },
    "language_info": {
      "name": "python"
    }
  },
  "cells": [
    {
      "cell_type": "code",
      "metadata": {
        "id": "YTysZsqd64dH"
      },
      "source": [
        "import numpy as np\n",
        "import pandas as pd\n",
        "%matplotlib inline\n",
        "import matplotlib.pyplot as plt\n",
        "import seaborn as sns\n",
        "from collections import Counter\n",
        "from matplotlib import pyplot"
      ],
      "execution_count": 1,
      "outputs": []
    },
    {
      "cell_type": "code",
      "metadata": {
        "id": "Hf7vSPZI8oc2"
      },
      "source": [
        "train_dataset = pd.read_csv('/content/drive/MyDrive/Colab Notebooks/TrainingData.csv',index_col = 'id')\n",
        "train_lable = pd.read_csv('/content/drive/MyDrive/Colab Notebooks/TrainingSetLable.csv',index_col = 'id')"
      ],
      "execution_count": 2,
      "outputs": []
    },
    {
      "cell_type": "code",
      "metadata": {
        "colab": {
          "base_uri": "https://localhost:8080/"
        },
        "id": "ImpLoDxQCA0n",
        "outputId": "5c986838-edc4-416b-f180-e9a5701b88fe"
      },
      "source": [
        "print(train_lable)"
      ],
      "execution_count": 3,
      "outputs": [
        {
          "output_type": "stream",
          "name": "stdout",
          "text": [
            "         status_group\n",
            "id                   \n",
            "69572      functional\n",
            "8776       functional\n",
            "34310      functional\n",
            "67743  non functional\n",
            "19728      functional\n",
            "...               ...\n",
            "60739      functional\n",
            "27263      functional\n",
            "37057      functional\n",
            "31282      functional\n",
            "26348      functional\n",
            "\n",
            "[59400 rows x 1 columns]\n"
          ]
        }
      ]
    },
    {
      "cell_type": "code",
      "metadata": {
        "id": "buLTTbde-sIr"
      },
      "source": [
        "random_seed = 40\n",
        "drop_cols = []"
      ],
      "execution_count": 4,
      "outputs": []
    },
    {
      "cell_type": "code",
      "metadata": {
        "id": "RbH6Ph7B-stq"
      },
      "source": [
        "df= train_dataset.join(train_lable,how='left')\n",
        "X= df.drop('status_group',axis=1)\n",
        "y= df['status_group']"
      ],
      "execution_count": 5,
      "outputs": []
    },
    {
      "cell_type": "code",
      "metadata": {
        "id": "0aSUuqKc-svU"
      },
      "source": [
        "from sklearn.model_selection import train_test_split\n",
        "X_train,X_test,y_train,y_test = train_test_split(X,y,test_size=0.1,random_state= random_seed)"
      ],
      "execution_count": 6,
      "outputs": []
    },
    {
      "cell_type": "code",
      "metadata": {
        "id": "plRIsYjO-szw"
      },
      "source": [
        "X_train.head()"
      ],
      "execution_count": null,
      "outputs": []
    },
    {
      "cell_type": "code",
      "metadata": {
        "id": "qUKv0sQYAJlS"
      },
      "source": [
        "y_train.head"
      ],
      "execution_count": null,
      "outputs": []
    },
    {
      "cell_type": "code",
      "metadata": {
        "id": "sbNfwABk-s4E"
      },
      "source": [
        "from sklearn.impute import SimpleImputer\n",
        "from sklearn.compose import ColumnTransformer\n",
        "from sklearn.preprocessing import (OneHotEncoder, StandardScaler, FunctionTransformer)\n",
        "\n",
        "def convert_categorical_to_string(data):\n",
        "    return pd.DataFrame(data).astype(str)\n",
        "\n",
        "CategoricalTypeConverter = FunctionTransformer(convert_categorical_to_string)"
      ],
      "execution_count": 8,
      "outputs": []
    },
    {
      "cell_type": "code",
      "metadata": {
        "id": "f8qJuuTi-s5p"
      },
      "source": [
        "def classify_columns(df, drop_cols):\n",
        "    cols = df.columns\n",
        "    keep_cols = [col for col in cols if col not in drop_cols]\n",
        "    cat_cols = []\n",
        "    num_cols = []\n",
        "    for col in keep_cols:\n",
        "        if df[col].dtype == object:\n",
        "            cat_cols.append(col)\n",
        "        else:\n",
        "            num_cols.append(col)\n",
        "    return cat_cols, num_cols"
      ],
      "execution_count": 9,
      "outputs": []
    },
    {
      "cell_type": "code",
      "metadata": {
        "id": "vd5jmO4U-s9h"
      },
      "source": [
        "cat_cols, num_cols = classify_columns(X_train, drop_cols)"
      ],
      "execution_count": 10,
      "outputs": []
    },
    {
      "cell_type": "code",
      "metadata": {
        "id": "SHeIaCOo-s_L"
      },
      "source": [
        "from xgboost import XGBClassifier\n",
        "from sklearn.multiclass import OneVsRestClassifier\n",
        "from sklearn.pipeline import Pipeline\n",
        "from sklearn.model_selection import GridSearchCV\n",
        "from sklearn.metrics import plot_confusion_matrix\n",
        "\n",
        "categorical_pipeline = Pipeline(\n",
        "    steps=[\n",
        "        (\n",
        "            'typeConverter', \n",
        "            CategoricalTypeConverter\n",
        "        ),\n",
        "        (\n",
        "            'imputer', \n",
        "            SimpleImputer(\n",
        "                strategy='constant', \n",
        "                fill_value='missing'\n",
        "            )\n",
        "        ),\n",
        "        (\n",
        "            'standardizer', \n",
        "            OneHotEncoder(\n",
        "                handle_unknown='ignore',\n",
        "                dtype=float\n",
        "            )\n",
        "        )\n",
        "    ]\n",
        ")"
      ],
      "execution_count": 11,
      "outputs": []
    },
    {
      "cell_type": "code",
      "metadata": {
        "id": "_5w9TA8p-tC_"
      },
      "source": [
        "numerical_pipeline = Pipeline(\n",
        "    steps=[\n",
        "        (\n",
        "            'imputer', \n",
        "            SimpleImputer(\n",
        "                strategy='median'\n",
        "            )\n",
        "        ),\n",
        "        (\n",
        "            'standardizer', \n",
        "            StandardScaler()\n",
        "        )\n",
        "    ]\n",
        ")"
      ],
      "execution_count": 12,
      "outputs": []
    },
    {
      "cell_type": "code",
      "metadata": {
        "id": "s3l4w66A-tEk"
      },
      "source": [
        "if len(drop_cols) > 0:\n",
        "    preprocessor = ColumnTransformer(\n",
        "        transformers=[\n",
        "            (\n",
        "                'numericalPreprocessor', \n",
        "                numerical_pipeline, \n",
        "                num_cols\n",
        "            ),\n",
        "            (\n",
        "                'categoricalPreprocessor', \n",
        "                categorical_pipeline, \n",
        "                cat_cols\n",
        "            ),\n",
        "            (\n",
        "                'dropPreprocessor', \n",
        "                'drop', \n",
        "                drop_cols\n",
        "            )\n",
        "        ]\n",
        "    )\n",
        "else:\n",
        "    preprocessor = ColumnTransformer(\n",
        "        transformers=[\n",
        "            (\n",
        "                'numericalPreprocessor', \n",
        "                numerical_pipeline, \n",
        "                num_cols\n",
        "            ),\n",
        "            (\n",
        "                'categoricalPreprocessor', \n",
        "                categorical_pipeline, \n",
        "                cat_cols\n",
        "            )\n",
        "        ]\n",
        "    )"
      ],
      "execution_count": 13,
      "outputs": []
    },
    {
      "cell_type": "code",
      "metadata": {
        "id": "v2Cow3zNFOpT"
      },
      "source": [
        "pipeline = Pipeline(\n",
        "    steps=[\n",
        "        (\n",
        "            'preprocessor', \n",
        "            preprocessor\n",
        "        ),\n",
        "        (\n",
        "            'classifier', \n",
        "            OneVsRestClassifier(\n",
        "                estimator='passthrough'\n",
        "            )\n",
        "        )\n",
        "    ]\n",
        ")"
      ],
      "execution_count": 14,
      "outputs": []
    },
    {
      "cell_type": "code",
      "metadata": {
        "id": "hMyrOu1YFOqz"
      },
      "source": [
        "parameter_grid = [\n",
        "    {\n",
        "        'classifier__estimator': [\n",
        "            XGBClassifier()\n",
        "        ],\n",
        "        'classifier__estimator__max_depth': [20],\n",
        "        'classifier__estimator__n_estimators': [200]\n",
        "    }\n",
        "]"
      ],
      "execution_count": 15,
      "outputs": []
    },
    {
      "cell_type": "code",
      "metadata": {
        "id": "ky9TIA6aFOvf"
      },
      "source": [
        "grid_search = GridSearchCV(estimator=pipeline, param_grid=parameter_grid, scoring='accuracy', cv=5, verbose=2, n_jobs=-2,refit=True)"
      ],
      "execution_count": 16,
      "outputs": []
    },
    {
      "cell_type": "code",
      "metadata": {
        "id": "APf4TOMQFOxG"
      },
      "source": [
        "grid_search.fit( X, y)\n",
        "model = grid_search.best_estimator_"
      ],
      "execution_count": null,
      "outputs": []
    },
    {
      "cell_type": "code",
      "metadata": {
        "id": "aQ15b1ykFO00"
      },
      "source": [
        "grid_search_results = pd.DataFrame(grid_search.cv_results_)"
      ],
      "execution_count": 18,
      "outputs": []
    },
    {
      "cell_type": "code",
      "metadata": {
        "id": "N5NtjZGdFO2d"
      },
      "source": [
        "grid_search_results"
      ],
      "execution_count": null,
      "outputs": []
    },
    {
      "cell_type": "code",
      "metadata": {
        "id": "JTyRRwJ-FO6k"
      },
      "source": [
        "fig, ax = plt.subplots()\n",
        "fig.set_figheight(6)\n",
        "fig.set_figwidth(8)\n",
        "sns.lineplot(x='param_classifier__estimator__max_depth',y='mean_test_score', hue='param_classifier__estimator__n_estimators',data=grid_search_results,ax=ax)\n",
        "handles, labels = ax.get_legend_handles_labels()\n",
        "\n",
        "ax.legend(handles=handles[1:], labels=labels[1:], title=\"Number of Estimators\");\n",
        "ax.set_xlabel('Max Depth');\n",
        "ax.set_ylabel('Mean Test Score');\n",
        "ax.set_title('XGBClassifier Model Accuracy');"
      ],
      "execution_count": null,
      "outputs": []
    },
    {
      "cell_type": "code",
      "metadata": {
        "id": "P352f34jFu2l"
      },
      "source": [
        "fig, ax = plt.subplots()\n",
        "fig.set_figheight(6)\n",
        "fig.set_figwidth(8)\n",
        "sns.lineplot(x='param_classifier__estimator__max_depth',y='mean_fit_time', hue='param_classifier__estimator__n_estimators',data=grid_search_results,ax=ax)\n",
        "handles, labels = ax.get_legend_handles_labels()\n",
        "\n",
        "ax.legend(handles=handles[1:],labels=labels[1:], title=\"Number of Estimators\");\n",
        "ax.set_xlabel('Max Depth');\n",
        "ax.set_ylabel('Mean Fit Time (sec)');\n",
        "ax.set_title('XGBClassifier Model Fit Time');\n"
      ],
      "execution_count": null,
      "outputs": []
    },
    {
      "cell_type": "code",
      "metadata": {
        "id": "cmgH-7ElGBUJ"
      },
      "source": [
        "X_validate = pd.read_csv('/content/drive/MyDrive/Colab Notebooks/Testdata.csv', index_col='id')\n",
        "y_validate = model.predict(X_validate)\n",
        "df_predictions = pd.DataFrame( y_validate, index=X_validate.index, columns=['status_group'])\n",
        "df_predictions.to_csv('/content/drive/MyDrive/Colab Notebooks/final_model.csv')"
      ],
      "execution_count": 22,
      "outputs": []
    },
    {
      "cell_type": "code",
      "metadata": {
        "id": "ABg3hPdNGBV1"
      },
      "source": [
        "model.fit(X_train,y_train)"
      ],
      "execution_count": null,
      "outputs": []
    },
    {
      "cell_type": "code",
      "metadata": {
        "id": "_LlpDgCBGJfI"
      },
      "source": [
        "fig, ax = plt.subplots()\n",
        "fig.set_figheight(8)\n",
        "fig.set_figwidth(8)\n",
        "plot_confusion_matrix(model, X_test, y_test, ax=ax, normalize='true',include_values=True)"
      ],
      "execution_count": null,
      "outputs": []
    }
  ]
}